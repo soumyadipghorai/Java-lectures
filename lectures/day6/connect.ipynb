{
 "cells": [
  {
   "cell_type": "code",
   "execution_count": 12,
   "metadata": {},
   "outputs": [
    {
     "name": "stdout",
     "output_type": "stream",
     "text": [
      "['move', 'over', 'very']\n",
      "final word :  move\n",
      "common chunk from both words -->  ove\n",
      "to add from 2nd word -->  r\n",
      "final word :  mover\n",
      "common chunk from both words -->  ver\n",
      "to add from 2nd word -->  y\n",
      "final word :  movery\n",
      "movery\n"
     ]
    }
   ],
   "source": [
    "wordList = list(map(str, input().split()))\n",
    "print(wordList)\n",
    "finalWord = ''\n",
    "for i in range(len(wordList)) : \n",
    "    if i == 0 : \n",
    "        finalWord += wordList[i]\n",
    "    else : \n",
    "        for j in range(len(finalWord)) : \n",
    "            chunk = finalWord[i:]\n",
    "            if chunk == wordList[i][:len(chunk)] : \n",
    "                print('common chunk from both words --> ',chunk)\n",
    "                finalWord += wordList[i][len(chunk):]\n",
    "                print('to add from 2nd word --> ',wordList[i][len(chunk):])\n",
    "                break \n",
    "    print('final word : ',finalWord)\n",
    "print(finalWord)"
   ]
  },
  {
   "cell_type": "code",
   "execution_count": null,
   "metadata": {},
   "outputs": [],
   "source": []
  },
  {
   "cell_type": "code",
   "execution_count": null,
   "metadata": {},
   "outputs": [],
   "source": []
  }
 ],
 "metadata": {
  "kernelspec": {
   "display_name": "Python 3.7.9 64-bit (windows store)",
   "language": "python",
   "name": "python3"
  },
  "language_info": {
   "codemirror_mode": {
    "name": "ipython",
    "version": 3
   },
   "file_extension": ".py",
   "mimetype": "text/x-python",
   "name": "python",
   "nbconvert_exporter": "python",
   "pygments_lexer": "ipython3",
   "version": "3.7.9"
  },
  "orig_nbformat": 4,
  "vscode": {
   "interpreter": {
    "hash": "49deadb19ec3199b19c2e07bd674ab90037832d683175982dd3cb88bf7cb6cf2"
   }
  }
 },
 "nbformat": 4,
 "nbformat_minor": 2
}
